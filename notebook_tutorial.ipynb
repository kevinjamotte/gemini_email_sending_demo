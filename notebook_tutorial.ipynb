{
  "cells": [
    {
      "cell_type": "markdown",
      "metadata": {
        "id": "-QhPWE1lwZHH"
      },
      "source": [
        "# Gemini API Python quickstart"
      ]
    },
    {
      "cell_type": "markdown",
      "metadata": {
        "id": "fa7c47ae6451"
      },
      "source": [
        "<table class=\"tfo-notebook-buttons\" align=\"left\">\n",
        "  <td>\n",
        "    <a target=\"_blank\" href=\"https://ai.google.dev/tutorials/quickstart_colab\"><img src=\"https://ai.google.dev/static/site-assets/images/docs/notebook-site-button.png\" height=\"32\" width=\"32\" />View on Google AI</a>\n",
        "  </td>\n",
        "  <td>\n",
        "    <a target=\"_blank\" href=\"https://colab.research.google.com/github/google/generative-ai-docs/blob/main/site/en/tutorials/quickstart_colab.ipynb\"><img src=\"https://www.tensorflow.org/images/colab_logo_32px.png\" />Run in Google Colab</a>\n",
        "  </td>\n",
        "  <td>\n",
        "    <a target=\"_blank\" href=\"https://github.com/google/generative-ai-docs/blob/main/site/en/tutorials/quickstart_colab.ipynb\"><img src=\"https://www.tensorflow.org/images/GitHub-Mark-32px.png\" />View source on GitHub</a>\n",
        "  </td>\n",
        "</table>"
      ]
    },
    {
      "cell_type": "markdown",
      "metadata": {
        "id": "NNNg43Ymw54e"
      },
      "source": [
        "## Prerequisites\n",
        "\n",
        "You can run the first part of this tutorial in Google Colab, which doesn't require additional environment configuration. The part when we send the email requires a regular IDE like VSCode.\n",
        "\n",
        "Alternatively, to complete this quickstart locally, see the Python guidance in [Get started with the Gemini API](https://ai.google.dev/tutorials/quickstart). Also don't forget to run ```pip install -r requirements.txt```."
      ]
    },
    {
      "cell_type": "markdown",
      "metadata": {
        "id": "EeMCtmx9ykyx"
      },
      "source": [
        "## Set up your API key\n",
        "\n",
        "To use the Gemini API, you'll need an API key. If you don't already have one, create a key in Google AI Studio.\n",
        "\n",
        "<a class=\"button\" href=\"https://aistudio.google.com/app/apikey\" target=\"_blank\" rel=\"noopener noreferrer\">Get an API key</a>\n",
        "\n",
        "To make it available to your notebook, add your API key in a json file which you can call ```config.json``` in the directory. Don't forget to add it to the ```.gitignore``` to avoid catastrophes."
      ]
    },
    {
      "cell_type": "code",
      "execution_count": 1,
      "metadata": {
        "id": "HTiaTu6O1LRC"
      },
      "outputs": [
        {
          "name": "stderr",
          "output_type": "stream",
          "text": [
            "c:\\Users\\kevin\\AppData\\Local\\Programs\\Python\\Python313\\Lib\\site-packages\\tqdm\\auto.py:21: TqdmWarning: IProgress not found. Please update jupyter and ipywidgets. See https://ipywidgets.readthedocs.io/en/stable/user_install.html\n",
            "  from .autonotebook import tqdm as notebook_tqdm\n"
          ]
        }
      ],
      "source": [
        "# Import the Python SDK\n",
        "import google.generativeai as genai # type: ignore\n",
        "import json\n",
        "import os\n",
        "\n",
        "# Load the JSON file\n",
        "config_file = \"config.json\"  # Replace with your JSON file's name if different\n",
        "if os.path.exists(config_file):\n",
        "    with open(config_file, \"r\") as file:\n",
        "        config = json.load(file)\n",
        "        GEMINI_API_KEY = config.get(\"GEMINI_API_KEY\")\n",
        "else:\n",
        "    raise FileNotFoundError(f\"Configuration file '{config_file}' not found.\")\n",
        "\n",
        "genai.configure(api_key=GEMINI_API_KEY)"
      ]
    },
    {
      "cell_type": "markdown",
      "metadata": {
        "id": "CZPYk29o2No0"
      },
      "source": [
        "## Initialize the Generative Model\n",
        "\n",
        "Before you can make any API calls, you need to initialize the Generative Model."
      ]
    },
    {
      "cell_type": "code",
      "execution_count": 2,
      "metadata": {
        "id": "s-JqXcDe2hZ_"
      },
      "outputs": [],
      "source": [
        "model = genai.GenerativeModel('gemini-pro')"
      ]
    },
    {
      "cell_type": "markdown",
      "metadata": {
        "id": "nXxypzJH4MUl"
      },
      "source": [
        "## Generate text"
      ]
    },
    {
      "cell_type": "code",
      "execution_count": 3,
      "metadata": {
        "colab": {
          "base_uri": "https://localhost:8080/",
          "height": 69
        },
        "id": "j51mcrLD4Y2W",
        "outputId": "4d74d4c1-c9c2-4a16-f73b-ada86bd6758d"
      },
      "outputs": [
        {
          "name": "stdout",
          "output_type": "stream",
          "text": [
            "Example Prompt:\n",
            "Write a haiku about Generative AI and it's limitless potential. \n",
            "\n",
            "Output:\n",
            "Digital canvas,\n",
            "Infinite realms of creation,\n",
            "Boundless possibilities.\n"
          ]
        }
      ],
      "source": [
        "example_prompt=\"Write a haiku about Generative AI and it's limitless potential.\"\n",
        "print(\"Example Prompt:\\n\"+example_prompt,\"\\n\")\n",
        "response = model.generate_content(example_prompt)\n",
        "print(\"Output:\")\n",
        "print(response.text)"
      ]
    },
    {
      "cell_type": "markdown",
      "metadata": {
        "id": "zUUAQS9u4biH"
      },
      "source": [
        "## What's next\n",
        "\n",
        "To learn more about working with the Gemini API, see the [Python tutorial](https://ai.google.dev/tutorials/python_quickstart).\n",
        "\n",
        "If you're new to generative AI models, you might want to look at the\n",
        "[concepts guide](https://ai.google.dev/docs/concepts) and the\n",
        "[Gemini API overview](https://ai.google.dev/docs/gemini_api_overview)."
      ]
    },
    {
      "cell_type": "markdown",
      "metadata": {
        "id": "jlERyJMgtQUz"
      },
      "source": [
        "# Phishing Prevention"
      ]
    },
    {
      "cell_type": "markdown",
      "metadata": {
        "id": "pEHfB5zltrvt"
      },
      "source": [
        "### Generate Phishing Emails:\n",
        "To generate a phishing email, we need to write a prompt. This prompt has to be creative in order to make it harder for people to guess that the email is a malicious one. This is a good article about it https://caniphish.com/blog/how-to-create-a-phishing-email.\n",
        "\n",
        "Here is an example of how to build a prompt, we first initialize the parameters:\n",
        "\n",
        "\n",
        "\n"
      ]
    },
    {
      "cell_type": "code",
      "execution_count": 4,
      "metadata": {
        "colab": {
          "base_uri": "https://localhost:8080/",
          "height": 332
        },
        "id": "LQTlgAWLwR8c",
        "outputId": "213a2dae-0ab5-4c55-921b-bc77f8fd93a5"
      },
      "outputs": [],
      "source": [
        "name=\"Jan\"\n",
        "surname=\"Vandevelde\"\n",
        "email=\"john.doe@example.com\"\n",
        "business_unit=\"Sales\"\n",
        "team_name=\"B2B Sales\"\n",
        "\n",
        "#Create an approximate combination of phishing parameters\n",
        "phishing_examples = [\n",
        "    {\"Reason\": \"Account Suspicious Activity\", \"Fake Link\": \"https://example.com/secure-login\", \"Created By\": \"Sam Sussy\"},\n",
        "    {\"Reason\": \"Password Expiry Notification\", \"Fake Link\": \"https://example.com/reset-password\", \"Created By\": \"Sally Sneaky\"},\n",
        "    {\"Reason\": \"Exclusive Training Webinar\", \"Fake Link\": \"https://example.com/join-webinar\", \"Created By\": \"Richard Rascal\"},\n",
        "    {\"Reason\": \"Email Storage Full\", \"Fake Link\": \"https://example.com/manage-storage\", \"Created By\": \"Bernard Bandit\"}\n",
        "]"
      ]
    },
    {
      "cell_type": "markdown",
      "metadata": {},
      "source": [
        "We prompt Gemini for the body of the email:"
      ]
    },
    {
      "cell_type": "code",
      "execution_count": 5,
      "metadata": {},
      "outputs": [
        {
          "name": "stdout",
          "output_type": "stream",
          "text": [
            "Prompt: Write an email from Richard Rascal to Jan Vandevelde from the B2B Sales team on the following theme: Exclusive Training Webinar.\n",
            "He will have to click on this link : https://example.com/join-webinar. Only write the body of this email.\n"
          ]
        }
      ],
      "source": [
        "#Take a random reason\n",
        "import random\n",
        "random_pick = random.choice(phishing_examples)\n",
        "\n",
        "#Formulate a prompt\n",
        "prompt=f'''Write an email from {random_pick[\"Created By\"]} to {name} {surname} from the {team_name} team on the following theme: {random_pick[\"Reason\"]}.\n",
        "He will have to click on this link : {random_pick[\"Fake Link\"]}. Only write the body of this email.'''\n",
        "\n",
        "print(\"Prompt:\",prompt)"
      ]
    },
    {
      "cell_type": "code",
      "execution_count": 6,
      "metadata": {},
      "outputs": [
        {
          "name": "stdout",
          "output_type": "stream",
          "text": [
            "Hi Jan,\n",
            "\n",
            "I hope this email finds you well.\n",
            "\n",
            "I'm excited to invite you to an exclusive training webinar that our B2B Sales team is hosting next week.\n",
            "\n",
            "This webinar will provide valuable insights and best practices on how to:\n",
            "\n",
            "* Generate more qualified leads\n",
            "* Improve conversion rates\n",
            "* Close deals more effectively\n",
            "\n",
            "This is a unique opportunity to learn from our top sales experts and get practical advice that you can implement in your own sales process.\n",
            "\n",
            "To register for the webinar, please click on the following link:\n",
            "\n",
            "https://example.com/join-webinar\n",
            "\n",
            "The webinar will be held on [Date] at [Time] in [Time zone].\n",
            "\n",
            "Please let me know if you have any questions. I look forward to seeing you there!\n",
            "\n",
            "Best regards,\n",
            "Richard Rascal\n"
          ]
        }
      ],
      "source": [
        "body = model.generate_content(prompt)\n",
        "print(body.text)"
      ]
    },
    {
      "cell_type": "markdown",
      "metadata": {},
      "source": [
        "We prompt Gemini for the subject, e.g. we feed it previous output and ask for the subject:"
      ]
    },
    {
      "cell_type": "code",
      "execution_count": 7,
      "metadata": {},
      "outputs": [
        {
          "name": "stdout",
          "output_type": "stream",
          "text": [
            "Invitation to Exclusive B2B Sales Training Webinar\n"
          ]
        }
      ],
      "source": [
        "subject = model.generate_content(\"Write me the subject of this email:\\n\"+body.text)\n",
        "print(subject.text)"
      ]
    },
    {
      "cell_type": "markdown",
      "metadata": {},
      "source": [
        "### Sending an email using your gmail account.\n",
        "\n",
        "First, I would recommend you use a fresh gmail account to do what you have to do. So create yourself a dummy gmail account first. Try to keep it saved somewhere, you will probably be able to use it again someday.\n",
        "\n",
        "Then go here: [Python quickstart to using Gmail](https://developers.google.com/gmail/api/quickstart/python)\n",
        "\n",
        "Follow the things step by step and add the ```config.json```, and soon to be ```token.json``` to the ```.gitignore```\n",
        "\n",
        "First we setup!"
      ]
    },
    {
      "cell_type": "code",
      "execution_count": 8,
      "metadata": {},
      "outputs": [],
      "source": [
        "from google.auth.transport.requests import Request # type: ignore\n",
        "from google.oauth2.credentials import Credentials # type: ignore\n",
        "from google_auth_oauthlib.flow import InstalledAppFlow # type: ignore\n",
        "from googleapiclient.discovery import build # type: ignore\n",
        "from googleapiclient.errors import HttpError # type: ignore\n",
        "\n",
        "# If modifying these scopes, delete the file token.json.\n",
        "SCOPES = [\n",
        "    \"https://www.googleapis.com/auth/gmail.send\",\n",
        "]\n",
        "\n",
        "creds = None\n",
        "# The file token.json stores the user's access and refresh tokens, and is\n",
        "# created automatically when the authorization flow completes for the first\n",
        "# time.\n",
        "if os.path.exists(\"token.json\"):\n",
        "    creds = Credentials.from_authorized_user_file(\"token.json\", SCOPES)\n",
        "# If there are no (valid) credentials available, let the user log in.\n",
        "if not creds or not creds.valid:\n",
        "    if creds and creds.expired and creds.refresh_token:\n",
        "        creds.refresh(Request())\n",
        "    else:\n",
        "        flow = InstalledAppFlow.from_client_secrets_file(\n",
        "            \"credentials.json\", SCOPES\n",
        "        )\n",
        "        creds = flow.run_local_server(port=0)\n",
        "    # Save the credentials for the next run\n",
        "    with open(\"token.json\", \"w\") as token:\n",
        "        token.write(creds.to_json())\n"
      ]
    },
    {
      "cell_type": "markdown",
      "metadata": {},
      "source": []
    },
    {
      "cell_type": "markdown",
      "metadata": {},
      "source": [
        "Then we create the necessary functions:"
      ]
    },
    {
      "cell_type": "code",
      "execution_count": 9,
      "metadata": {},
      "outputs": [],
      "source": [
        "import base64\n",
        "import os.path\n",
        "from email.mime.text import MIMEText\n",
        "\n",
        "# This function has a weird return, ChatGPT made it that way, I didn't really look into it but here it is\n",
        "# It just creates an email object\n",
        "def create_message(sender, to, subject, message_text):\n",
        "    \"\"\"Create a message for an email.\"\"\"\n",
        "    message = MIMEText(message_text)\n",
        "    message[\"to\"] = to\n",
        "    message[\"from\"] = sender\n",
        "    message[\"subject\"] = subject\n",
        "    return {\"raw\": base64.urlsafe_b64encode(message.as_bytes()).decode()}\n",
        "\n",
        "\n",
        "def send_message(service, user_id, message):\n",
        "    \"\"\"Send an email message.\"\"\"\n",
        "    try:\n",
        "        sent_message = (\n",
        "            service.users()\n",
        "            .messages()\n",
        "            .send(userId=user_id, body=message)\n",
        "            .execute()\n",
        "        )\n",
        "        print(f\"Message sent! Message ID: {sent_message['id']}\")\n",
        "    except HttpError as error:\n",
        "        print(f\"An error occurred: {error}\")"
      ]
    },
    {
      "cell_type": "markdown",
      "metadata": {},
      "source": [
        "Then we send the email to ourselves!"
      ]
    },
    {
      "cell_type": "code",
      "execution_count": 10,
      "metadata": {},
      "outputs": [
        {
          "name": "stdout",
          "output_type": "stream",
          "text": [
            "Message sent! Message ID: 194658647859411e\n"
          ]
        }
      ],
      "source": [
        "try:\n",
        "    # Call the Gmail API\n",
        "    service = build(\"gmail\", \"v1\", credentials=creds)\n",
        "\n",
        "    # Create and send a test email\n",
        "    sender = \"me\"  # 'me' refers to the authenticated user\n",
        "    recipient = \"kevin.jamotte@icloud.com\" #put an email recipient, can be yourself but \"me\" doesn't work as argument\n",
        "\n",
        "    message = create_message(sender, recipient, subject.text, body.text)\n",
        "    send_message(service, \"me\", message)\n",
        "\n",
        "except HttpError as error:\n",
        "    print(f\"An error occurred: {error}\")    "
      ]
    },
    {
      "cell_type": "markdown",
      "metadata": {
        "id": "alSnj9IK58e1"
      },
      "source": [
        "The email needs to be sent, while being convincing and not just plain text. Have a look at this [interesting post](https://mailtrap.io/blog/python-send-html-email/)."
      ]
    }
  ],
  "metadata": {
    "colab": {
      "provenance": []
    },
    "kernelspec": {
      "display_name": "Python 3",
      "name": "python3"
    },
    "language_info": {
      "codemirror_mode": {
        "name": "ipython",
        "version": 3
      },
      "file_extension": ".py",
      "mimetype": "text/x-python",
      "name": "python",
      "nbconvert_exporter": "python",
      "pygments_lexer": "ipython3",
      "version": "3.13.1"
    }
  },
  "nbformat": 4,
  "nbformat_minor": 0
}
